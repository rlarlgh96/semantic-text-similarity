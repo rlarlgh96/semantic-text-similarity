{
 "cells": [
  {
   "cell_type": "code",
   "execution_count": 1,
   "id": "0a345021",
   "metadata": {},
   "outputs": [],
   "source": [
    "import pandas as pd\n",
    "\n",
    "import seaborn as sns\n",
    "import matplotlib.pyplot as plt\n",
    "from matplotlib.pyplot import figure"
   ]
  },
  {
   "cell_type": "code",
   "execution_count": 2,
   "id": "37366375",
   "metadata": {},
   "outputs": [],
   "source": [
    "train = pd.read_csv('train.csv')"
   ]
  },
  {
   "cell_type": "code",
   "execution_count": 3,
   "id": "feef644e",
   "metadata": {},
   "outputs": [
    {
     "data": {
      "text/html": [
       "<div>\n",
       "<style scoped>\n",
       "    .dataframe tbody tr th:only-of-type {\n",
       "        vertical-align: middle;\n",
       "    }\n",
       "\n",
       "    .dataframe tbody tr th {\n",
       "        vertical-align: top;\n",
       "    }\n",
       "\n",
       "    .dataframe thead th {\n",
       "        text-align: right;\n",
       "    }\n",
       "</style>\n",
       "<table border=\"1\" class=\"dataframe\">\n",
       "  <thead>\n",
       "    <tr style=\"text-align: right;\">\n",
       "      <th></th>\n",
       "      <th>id</th>\n",
       "      <th>source</th>\n",
       "      <th>sentence_1</th>\n",
       "      <th>sentence_2</th>\n",
       "      <th>label</th>\n",
       "      <th>binary-label</th>\n",
       "    </tr>\n",
       "  </thead>\n",
       "  <tbody>\n",
       "    <tr>\n",
       "      <th>0</th>\n",
       "      <td>boostcamp-sts-v1-train-000</td>\n",
       "      <td>nsmc-sampled</td>\n",
       "      <td>스릴도있고 반전도 있고 여느 한국영화 쓰레기들하고는 차원이 다르네요~</td>\n",
       "      <td>반전도 있고,사랑도 있고재미도있네요.</td>\n",
       "      <td>2.2</td>\n",
       "      <td>0.0</td>\n",
       "    </tr>\n",
       "    <tr>\n",
       "      <th>1</th>\n",
       "      <td>boostcamp-sts-v1-train-001</td>\n",
       "      <td>slack-rtt</td>\n",
       "      <td>앗 제가 접근권한이 없다고 뜹니다;;</td>\n",
       "      <td>오, 액세스 권한이 없다고 합니다.</td>\n",
       "      <td>4.2</td>\n",
       "      <td>1.0</td>\n",
       "    </tr>\n",
       "    <tr>\n",
       "      <th>2</th>\n",
       "      <td>boostcamp-sts-v1-train-002</td>\n",
       "      <td>petition-sampled</td>\n",
       "      <td>주택청약조건 변경해주세요.</td>\n",
       "      <td>주택청약 무주택기준 변경해주세요.</td>\n",
       "      <td>2.4</td>\n",
       "      <td>0.0</td>\n",
       "    </tr>\n",
       "    <tr>\n",
       "      <th>3</th>\n",
       "      <td>boostcamp-sts-v1-train-003</td>\n",
       "      <td>slack-sampled</td>\n",
       "      <td>입사후 처음 대면으로 만나 반가웠습니다.</td>\n",
       "      <td>화상으로만 보다가 리얼로 만나니 정말 반가웠습니다.</td>\n",
       "      <td>3.0</td>\n",
       "      <td>1.0</td>\n",
       "    </tr>\n",
       "    <tr>\n",
       "      <th>4</th>\n",
       "      <td>boostcamp-sts-v1-train-004</td>\n",
       "      <td>slack-sampled</td>\n",
       "      <td>뿌듯뿌듯 하네요!!</td>\n",
       "      <td>꼬옥 실제로 한번 뵈어요 뿌뿌뿌~!~!</td>\n",
       "      <td>0.0</td>\n",
       "      <td>0.0</td>\n",
       "    </tr>\n",
       "    <tr>\n",
       "      <th>...</th>\n",
       "      <td>...</td>\n",
       "      <td>...</td>\n",
       "      <td>...</td>\n",
       "      <td>...</td>\n",
       "      <td>...</td>\n",
       "      <td>...</td>\n",
       "    </tr>\n",
       "    <tr>\n",
       "      <th>9319</th>\n",
       "      <td>boostcamp-sts-v1-train-9319</td>\n",
       "      <td>petition-sampled</td>\n",
       "      <td>교원능력개발평가에서 교원이 보호받을 수 있는 장치를 마련해야합니다</td>\n",
       "      <td>본인이 납부한 국민연금 금액을 기준으로 대출을 받을 수 있는 제도를 마련해 주세요</td>\n",
       "      <td>0.2</td>\n",
       "      <td>0.0</td>\n",
       "    </tr>\n",
       "    <tr>\n",
       "      <th>9320</th>\n",
       "      <td>boostcamp-sts-v1-train-9320</td>\n",
       "      <td>petition-sampled</td>\n",
       "      <td>여성가족부의 폐지를 원합니드</td>\n",
       "      <td>여성가족부 폐지를 청원 합니다.</td>\n",
       "      <td>4.2</td>\n",
       "      <td>1.0</td>\n",
       "    </tr>\n",
       "    <tr>\n",
       "      <th>9321</th>\n",
       "      <td>boostcamp-sts-v1-train-9321</td>\n",
       "      <td>petition-sampled</td>\n",
       "      <td>국회의원들 월급좀 줄여주세요</td>\n",
       "      <td>공무원 봉급좀 줄이지좀 마세요</td>\n",
       "      <td>0.6</td>\n",
       "      <td>0.0</td>\n",
       "    </tr>\n",
       "    <tr>\n",
       "      <th>9322</th>\n",
       "      <td>boostcamp-sts-v1-train-9322</td>\n",
       "      <td>slack-sampled</td>\n",
       "      <td>오늘 못한 점심은 다음에 다시 츄라이 하기로 해요!!</td>\n",
       "      <td>오늘 못먹은 밥은 꼭 담에 먹기로 하고요!!</td>\n",
       "      <td>3.2</td>\n",
       "      <td>1.0</td>\n",
       "    </tr>\n",
       "    <tr>\n",
       "      <th>9323</th>\n",
       "      <td>boostcamp-sts-v1-train-9323</td>\n",
       "      <td>petition-sampled</td>\n",
       "      <td>법정공휴일 휴무관련 (근로자)</td>\n",
       "      <td>법정공휴일의 유급휴무화를 막아야 합니다.</td>\n",
       "      <td>1.4</td>\n",
       "      <td>0.0</td>\n",
       "    </tr>\n",
       "  </tbody>\n",
       "</table>\n",
       "<p>9324 rows × 6 columns</p>\n",
       "</div>"
      ],
      "text/plain": [
       "                               id            source  \\\n",
       "0      boostcamp-sts-v1-train-000      nsmc-sampled   \n",
       "1      boostcamp-sts-v1-train-001         slack-rtt   \n",
       "2      boostcamp-sts-v1-train-002  petition-sampled   \n",
       "3      boostcamp-sts-v1-train-003     slack-sampled   \n",
       "4      boostcamp-sts-v1-train-004     slack-sampled   \n",
       "...                           ...               ...   \n",
       "9319  boostcamp-sts-v1-train-9319  petition-sampled   \n",
       "9320  boostcamp-sts-v1-train-9320  petition-sampled   \n",
       "9321  boostcamp-sts-v1-train-9321  petition-sampled   \n",
       "9322  boostcamp-sts-v1-train-9322     slack-sampled   \n",
       "9323  boostcamp-sts-v1-train-9323  petition-sampled   \n",
       "\n",
       "                                  sentence_1  \\\n",
       "0     스릴도있고 반전도 있고 여느 한국영화 쓰레기들하고는 차원이 다르네요~   \n",
       "1                       앗 제가 접근권한이 없다고 뜹니다;;   \n",
       "2                             주택청약조건 변경해주세요.   \n",
       "3                     입사후 처음 대면으로 만나 반가웠습니다.   \n",
       "4                                 뿌듯뿌듯 하네요!!   \n",
       "...                                      ...   \n",
       "9319    교원능력개발평가에서 교원이 보호받을 수 있는 장치를 마련해야합니다   \n",
       "9320                         여성가족부의 폐지를 원합니드   \n",
       "9321                         국회의원들 월급좀 줄여주세요   \n",
       "9322           오늘 못한 점심은 다음에 다시 츄라이 하기로 해요!!   \n",
       "9323                        법정공휴일 휴무관련 (근로자)   \n",
       "\n",
       "                                         sentence_2  label  binary-label  \n",
       "0                              반전도 있고,사랑도 있고재미도있네요.    2.2           0.0  \n",
       "1                               오, 액세스 권한이 없다고 합니다.    4.2           1.0  \n",
       "2                                주택청약 무주택기준 변경해주세요.    2.4           0.0  \n",
       "3                      화상으로만 보다가 리얼로 만나니 정말 반가웠습니다.    3.0           1.0  \n",
       "4                             꼬옥 실제로 한번 뵈어요 뿌뿌뿌~!~!    0.0           0.0  \n",
       "...                                             ...    ...           ...  \n",
       "9319  본인이 납부한 국민연금 금액을 기준으로 대출을 받을 수 있는 제도를 마련해 주세요    0.2           0.0  \n",
       "9320                              여성가족부 폐지를 청원 합니다.    4.2           1.0  \n",
       "9321                               공무원 봉급좀 줄이지좀 마세요    0.6           0.0  \n",
       "9322                       오늘 못먹은 밥은 꼭 담에 먹기로 하고요!!    3.2           1.0  \n",
       "9323                         법정공휴일의 유급휴무화를 막아야 합니다.    1.4           0.0  \n",
       "\n",
       "[9324 rows x 6 columns]"
      ]
     },
     "execution_count": 3,
     "metadata": {},
     "output_type": "execute_result"
    }
   ],
   "source": [
    "train"
   ]
  },
  {
   "cell_type": "code",
   "execution_count": 4,
   "id": "fb6b8fa1",
   "metadata": {},
   "outputs": [],
   "source": [
    "def plot(df):\n",
    "    plt.figure(figsize=(8, 8))\n",
    "    sns.histplot(df['label'])"
   ]
  },
  {
   "cell_type": "code",
   "execution_count": 5,
   "id": "281dc30d",
   "metadata": {},
   "outputs": [
    {
     "data": {
      "image/png": "[encoded data removed]",
      "text/plain": [
       "<Figure size 576x576 with 1 Axes>"
      ]
     },
     "metadata": {
      "needs_background": "light"
     },
     "output_type": "display_data"
    }
   ],
   "source": [
    "plot(train)"
   ]
  },
  {
   "cell_type": "markdown",
   "id": "a8752aba",
   "metadata": {},
   "source": [
    "<h1>Data Augmentation</h1>"
   ]
  },
  {
   "cell_type": "markdown",
   "id": "605b6f31",
   "metadata": {},
   "source": [
    "<h2>Sentence Swap</h2>"
   ]
  },
  {
   "cell_type": "code",
   "execution_count": 6,
   "id": "0574a195",
   "metadata": {},
   "outputs": [],
   "source": [
    "for idx in train.index:\n",
    "    train.loc[len(train)] = [ \n",
    "                    'boostcamp-sts-v1-df-' + str(len(train)), \n",
    "                    train['source'][idx],\n",
    "                    train['sentence_2'][idx], \n",
    "                    train['sentence_1'][idx],\n",
    "                    train['label'][idx],\n",
    "                    train['binary-label'][idx]\n",
    "                    ]"
   ]
  },
  {
   "cell_type": "code",
   "execution_count": 7,
   "id": "71542376",
   "metadata": {},
   "outputs": [
    {
     "data": {
      "image/png": "[encoded data removed]",
      "text/plain": [
       "<Figure size 576x576 with 1 Axes>"
      ]
     },
     "metadata": {
      "needs_background": "light"
     },
     "output_type": "display_data"
    }
   ],
   "source": [
    "plot(train)"
   ]
  },
  {
   "cell_type": "markdown",
   "id": "7e37318d",
   "metadata": {},
   "source": [
    "<h2>Sentence Copy and Reversal</h2>"
   ]
  },
  {
   "cell_type": "code",
   "execution_count": 8,
   "id": "0e2dd646",
   "metadata": {},
   "outputs": [],
   "source": [
    "for idx in train.index:\n",
    "    if train['label'][idx] == 0:\n",
    "        train.loc[len(train)] = [ \n",
    "                        'boostcamp-sts-v1-df-' + str(len(train)), \n",
    "                        train['source'][idx],\n",
    "                        train['sentence_1'][idx], \n",
    "                        train['sentence_1'][idx],\n",
    "                        5.0,\n",
    "                        1.0\n",
    "                        ]\n",
    "    elif train['label'][idx] == 5:\n",
    "        train.loc[len(train)] = [ \n",
    "                        'boostcamp-sts-v1-df-' + str(len(train)), \n",
    "                        train['source'][idx],\n",
    "                        train['sentence_1'][idx], \n",
    "                        train['sentence_1'][idx][::-1],\n",
    "                        0.0,\n",
    "                        0.0\n",
    "                        ]"
   ]
  },
  {
   "cell_type": "code",
   "execution_count": 9,
   "id": "52e17e6f",
   "metadata": {},
   "outputs": [
    {
     "data": {
      "image/png": "[encoded data removed]",
      "text/plain": [
       "<Figure size 576x576 with 1 Axes>"
      ]
     },
     "metadata": {
      "needs_background": "light"
     },
     "output_type": "display_data"
    }
   ],
   "source": [
    "plot(train)"
   ]
  },
  {
   "cell_type": "markdown",
   "id": "afb3e4f8",
   "metadata": {},
   "source": [
    "<h2>Data Resampling</h2>"
   ]
  },
  {
   "cell_type": "code",
   "execution_count": 10,
   "id": "a2de34fa",
   "metadata": {},
   "outputs": [],
   "source": [
    "# add label_range feature\n",
    "dict = {0:'0-1', 1:'1-2', 2:'2-3', 3:'3-4', 4:'4-5', 5:'4-5'}\n",
    "for idx in train.index:\n",
    "    train.loc[idx,'label_range'] = dict[int(train.loc[idx,'label'])]"
   ]
  },
  {
   "cell_type": "code",
   "execution_count": 11,
   "id": "006c9529",
   "metadata": {},
   "outputs": [],
   "source": [
    "(label0, num0), (label1, num1), (label2, num2), (label3, num3), (label4, num4) = (item for item in train['label_range'].value_counts().items())\n",
    "samples_1, samples_2, samples_3, samples_4  = (train[train['label_range']==label1].sample(n=num0-num1, replace=True, random_state=42), \n",
    "                                               train[train['label_range']==label2].sample(n=num0-num2, replace=True, random_state=42), \n",
    "                                               train[train['label_range']==label3].sample(n=num0-num3, replace=True, random_state=42), \n",
    "                                               train[train['label_range']==label4].sample(n=num0-num4, replace=True, random_state=42))\n",
    "train = pd.concat([train, samples_1, samples_2, samples_3, samples_4], ignore_index=True)"
   ]
  },
  {
   "cell_type": "code",
   "execution_count": 12,
   "id": "7752fa80",
   "metadata": {},
   "outputs": [
    {
     "name": "stderr",
     "output_type": "stream",
     "text": [
      "/opt/anaconda3/lib/python3.9/site-packages/seaborn/_decorators.py:36: FutureWarning: Pass the following variable as a keyword arg: x. From version 0.12, the only valid positional argument will be `data`, and passing other arguments without an explicit keyword will result in an error or misinterpretation.\n",
      "  warnings.warn(\n"
     ]
    },
    {
     "data": {
      "text/plain": [
       "<AxesSubplot:xlabel='label_range', ylabel='count'>"
      ]
     },
     "execution_count": 12,
     "metadata": {},
     "output_type": "execute_result"
    },
    {
     "data": {
      "image/png": "[encoded data removed]",
      "text/plain": [
       "<Figure size 576x576 with 1 Axes>"
      ]
     },
     "metadata": {
      "needs_background": "light"
     },
     "output_type": "display_data"
    }
   ],
   "source": [
    "# label_range distribution\n",
    "plt.figure(figsize=(8, 8))\n",
    "sns.countplot(train['label_range'], order=['0-1', '1-2', '2-3', '3-4', '4-5'])"
   ]
  },
  {
   "cell_type": "code",
   "execution_count": 13,
   "id": "3226f646",
   "metadata": {},
   "outputs": [
    {
     "data": {
      "text/plain": [
       "2-3    7604\n",
       "4-5    7604\n",
       "3-4    7604\n",
       "0-1    7604\n",
       "1-2    7604\n",
       "Name: label_range, dtype: int64"
      ]
     },
     "execution_count": 13,
     "metadata": {},
     "output_type": "execute_result"
    }
   ],
   "source": [
    "train['label_range'].value_counts()"
   ]
  },
  {
   "cell_type": "code",
   "execution_count": 14,
   "id": "88af55d8",
   "metadata": {},
   "outputs": [],
   "source": [
    "def data_augmentation(df):\n",
    "\n",
    "    # sentence swap\n",
    "    for idx in df.index:\n",
    "        df.loc[len(df)] = [ \n",
    "                        'boostcamp-sts-v1-df-' + str(len(df)), \n",
    "                        df['source'][idx],\n",
    "                        df['sentence_2'][idx], \n",
    "                        df['sentence_1'][idx],\n",
    "                        df['label'][idx],\n",
    "                        df['binary-label'][idx]\n",
    "                        ]\n",
    "    \n",
    "    # label adjustment\n",
    "    for idx in df.index:\n",
    "        if df['label'][idx] == 0:\n",
    "            df.loc[len(df)] = [ \n",
    "                            'boostcamp-sts-v1-df-' + str(len(df)), \n",
    "                            df['source'][idx],\n",
    "                            df['sentence_1'][idx], \n",
    "                            df['sentence_1'][idx],\n",
    "                            5.0,\n",
    "                            1.0\n",
    "                            ]\n",
    "        elif df['label'][idx] == 5:\n",
    "            df.loc[len(df)] = [ \n",
    "                            'boostcamp-sts-v1-df-' + str(len(df)), \n",
    "                            df['source'][idx],\n",
    "                            df['sentence_1'][idx], \n",
    "                            df['sentence_1'][idx][::-1],\n",
    "                            0.0,\n",
    "                            0.0\n",
    "                            ]\n",
    "        \n",
    "    # data resampling\n",
    "    # add label_range feature\n",
    "    dict = {0:'0-1', 1:'1-2', 2:'2-3', 3:'3-4', 4:'4-5', 5:'4-5'}\n",
    "    for idx in df.index:\n",
    "        df.loc[idx,'label_range'] = dict[int(df.loc[idx,'label'])]\n",
    "    (label0, num0), (label1, num1), (label2, num2), (label3, num3), (label4, num4) = (item for item in df['label_range'].value_counts().items())\n",
    "    samples_1, samples_2, samples_3, samples_4  = (df[df['label_range']==label1].sample(n=num0-num1, replace=True, random_state=42), \n",
    "                                                   df[df['label_range']==label2].sample(n=num0-num2, replace=True, random_state=42), \n",
    "                                                   df[df['label_range']==label3].sample(n=num0-num3, replace=True, random_state=42), \n",
    "                                                   df[df['label_range']==label4].sample(n=num0-num4, replace=True, random_state=42))\n",
    "    df = pd.concat([df, samples_1, samples_2, samples_3, samples_4], ignore_index=True)\n",
    "  \n",
    "    return df"
   ]
  },
  {
   "cell_type": "code",
   "execution_count": 15,
   "id": "30067214",
   "metadata": {},
   "outputs": [],
   "source": [
    "train = pd.read_csv('train.csv')"
   ]
  },
  {
   "cell_type": "code",
   "execution_count": 16,
   "id": "c78a2b3d",
   "metadata": {},
   "outputs": [],
   "source": [
    "train = data_augmentation(train)"
   ]
  },
  {
   "cell_type": "code",
   "execution_count": 17,
   "id": "127d5ccd",
   "metadata": {},
   "outputs": [],
   "source": [
    "train.to_csv('train_final.csv', index=False)"
   ]
  },
  {
   "cell_type": "code",
   "execution_count": null,
   "id": "f4ed1711",
   "metadata": {},
   "outputs": [],
   "source": []
  }
 ],
 "metadata": {
  "kernelspec": {
   "display_name": "Python 3 (ipykernel)",
   "language": "python",
   "name": "python3"
  },
  "language_info": {
   "codemirror_mode": {
    "name": "ipython",
    "version": 3
   },
   "file_extension": ".py",
   "mimetype": "text/x-python",
   "name": "python",
   "nbconvert_exporter": "python",
   "pygments_lexer": "ipython3",
   "version": "3.9.7"
  }
 },
 "nbformat": 4,
 "nbformat_minor": 5
}
